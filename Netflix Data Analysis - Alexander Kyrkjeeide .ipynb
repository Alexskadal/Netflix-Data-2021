{
 "cells": [
  {
   "cell_type": "markdown",
   "id": "c068a1d0",
   "metadata": {},
   "source": [
    "# Netflix Data Analysis Using Python"
   ]
  },
  {
   "cell_type": "markdown",
   "id": "1b3ba75c",
   "metadata": {},
   "source": [
    "The Netflx data set has the information about the Tv Shows & Movies available on Netflix till 2021.\n",
    "\n",
    "The Data set available from Flexible which is a Third Party Netflix which engine , and available on Kaggle dataset for free."
   ]
  },
  {
   "cell_type": "markdown",
   "id": "6ff2a48f",
   "metadata": {},
   "source": [
    "# Import Library"
   ]
  },
  {
   "cell_type": "code",
   "execution_count": 1,
   "id": "0f9f6c8f",
   "metadata": {},
   "outputs": [],
   "source": [
    "import pandas as pd\n",
    "import seaborn as sns"
   ]
  },
  {
   "cell_type": "markdown",
   "id": "4b0eb245",
   "metadata": {},
   "source": [
    "# Uploading Csv fle"
   ]
  },
  {
   "cell_type": "code",
   "execution_count": 2,
   "id": "ed2599bf",
   "metadata": {},
   "outputs": [],
   "source": [
    "df = pd.read_csv(\"Netflix.csv\")"
   ]
  },
  {
   "cell_type": "markdown",
   "id": "7039b6fb",
   "metadata": {},
   "source": [
    "# Data Preprocessing\n"
   ]
  },
  {
   "cell_type": "markdown",
   "id": "6ef53727",
   "metadata": {},
   "source": [
    "# .head()"
   ]
  },
  {
   "cell_type": "markdown",
   "id": "c00d2667",
   "metadata": {},
   "source": [
    "head is used show to the By default = 5 rows in the dataset"
   ]
  },
  {
   "cell_type": "code",
   "execution_count": 3,
   "id": "0e46aa7e",
   "metadata": {},
   "outputs": [
    {
     "data": {
      "text/html": [
       "<div>\n",
       "<style scoped>\n",
       "    .dataframe tbody tr th:only-of-type {\n",
       "        vertical-align: middle;\n",
       "    }\n",
       "\n",
       "    .dataframe tbody tr th {\n",
       "        vertical-align: top;\n",
       "    }\n",
       "\n",
       "    .dataframe thead th {\n",
       "        text-align: right;\n",
       "    }\n",
       "</style>\n",
       "<table border=\"1\" class=\"dataframe\">\n",
       "  <thead>\n",
       "    <tr style=\"text-align: right;\">\n",
       "      <th></th>\n",
       "      <th>Show_Id</th>\n",
       "      <th>Category</th>\n",
       "      <th>Title</th>\n",
       "      <th>Director</th>\n",
       "      <th>Cast</th>\n",
       "      <th>Country</th>\n",
       "      <th>Release_Date</th>\n",
       "      <th>Rating</th>\n",
       "      <th>Duration</th>\n",
       "      <th>Type</th>\n",
       "      <th>Description</th>\n",
       "    </tr>\n",
       "  </thead>\n",
       "  <tbody>\n",
       "    <tr>\n",
       "      <th>0</th>\n",
       "      <td>s1</td>\n",
       "      <td>TV Show</td>\n",
       "      <td>3%</td>\n",
       "      <td>NaN</td>\n",
       "      <td>João Miguel, Bianca Comparato, Michel Gomes, R...</td>\n",
       "      <td>Brazil</td>\n",
       "      <td>August 14, 2020</td>\n",
       "      <td>TV-MA</td>\n",
       "      <td>4 Seasons</td>\n",
       "      <td>International TV Shows, TV Dramas, TV Sci-Fi &amp;...</td>\n",
       "      <td>In a future where the elite inhabit an island ...</td>\n",
       "    </tr>\n",
       "    <tr>\n",
       "      <th>1</th>\n",
       "      <td>s2</td>\n",
       "      <td>Movie</td>\n",
       "      <td>07:19</td>\n",
       "      <td>Jorge Michel Grau</td>\n",
       "      <td>Demián Bichir, Héctor Bonilla, Oscar Serrano, ...</td>\n",
       "      <td>Mexico</td>\n",
       "      <td>December 23, 2016</td>\n",
       "      <td>TV-MA</td>\n",
       "      <td>93 min</td>\n",
       "      <td>Dramas, International Movies</td>\n",
       "      <td>After a devastating earthquake hits Mexico Cit...</td>\n",
       "    </tr>\n",
       "    <tr>\n",
       "      <th>2</th>\n",
       "      <td>s3</td>\n",
       "      <td>Movie</td>\n",
       "      <td>23:59</td>\n",
       "      <td>Gilbert Chan</td>\n",
       "      <td>Tedd Chan, Stella Chung, Henley Hii, Lawrence ...</td>\n",
       "      <td>Singapore</td>\n",
       "      <td>December 20, 2018</td>\n",
       "      <td>R</td>\n",
       "      <td>78 min</td>\n",
       "      <td>Horror Movies, International Movies</td>\n",
       "      <td>When an army recruit is found dead, his fellow...</td>\n",
       "    </tr>\n",
       "    <tr>\n",
       "      <th>3</th>\n",
       "      <td>s4</td>\n",
       "      <td>Movie</td>\n",
       "      <td>9</td>\n",
       "      <td>Shane Acker</td>\n",
       "      <td>Elijah Wood, John C. Reilly, Jennifer Connelly...</td>\n",
       "      <td>United States</td>\n",
       "      <td>November 16, 2017</td>\n",
       "      <td>PG-13</td>\n",
       "      <td>80 min</td>\n",
       "      <td>Action &amp; Adventure, Independent Movies, Sci-Fi...</td>\n",
       "      <td>In a postapocalyptic world, rag-doll robots hi...</td>\n",
       "    </tr>\n",
       "    <tr>\n",
       "      <th>4</th>\n",
       "      <td>s5</td>\n",
       "      <td>Movie</td>\n",
       "      <td>21</td>\n",
       "      <td>Robert Luketic</td>\n",
       "      <td>Jim Sturgess, Kevin Spacey, Kate Bosworth, Aar...</td>\n",
       "      <td>United States</td>\n",
       "      <td>January 1, 2020</td>\n",
       "      <td>PG-13</td>\n",
       "      <td>123 min</td>\n",
       "      <td>Dramas</td>\n",
       "      <td>A brilliant group of students become card-coun...</td>\n",
       "    </tr>\n",
       "  </tbody>\n",
       "</table>\n",
       "</div>"
      ],
      "text/plain": [
       "  Show_Id Category  Title           Director  \\\n",
       "0      s1  TV Show     3%                NaN   \n",
       "1      s2    Movie  07:19  Jorge Michel Grau   \n",
       "2      s3    Movie  23:59       Gilbert Chan   \n",
       "3      s4    Movie      9        Shane Acker   \n",
       "4      s5    Movie     21     Robert Luketic   \n",
       "\n",
       "                                                Cast        Country  \\\n",
       "0  João Miguel, Bianca Comparato, Michel Gomes, R...         Brazil   \n",
       "1  Demián Bichir, Héctor Bonilla, Oscar Serrano, ...         Mexico   \n",
       "2  Tedd Chan, Stella Chung, Henley Hii, Lawrence ...      Singapore   \n",
       "3  Elijah Wood, John C. Reilly, Jennifer Connelly...  United States   \n",
       "4  Jim Sturgess, Kevin Spacey, Kate Bosworth, Aar...  United States   \n",
       "\n",
       "        Release_Date Rating   Duration  \\\n",
       "0    August 14, 2020  TV-MA  4 Seasons   \n",
       "1  December 23, 2016  TV-MA     93 min   \n",
       "2  December 20, 2018      R     78 min   \n",
       "3  November 16, 2017  PG-13     80 min   \n",
       "4    January 1, 2020  PG-13    123 min   \n",
       "\n",
       "                                                Type  \\\n",
       "0  International TV Shows, TV Dramas, TV Sci-Fi &...   \n",
       "1                       Dramas, International Movies   \n",
       "2                Horror Movies, International Movies   \n",
       "3  Action & Adventure, Independent Movies, Sci-Fi...   \n",
       "4                                             Dramas   \n",
       "\n",
       "                                         Description  \n",
       "0  In a future where the elite inhabit an island ...  \n",
       "1  After a devastating earthquake hits Mexico Cit...  \n",
       "2  When an army recruit is found dead, his fellow...  \n",
       "3  In a postapocalyptic world, rag-doll robots hi...  \n",
       "4  A brilliant group of students become card-coun...  "
      ]
     },
     "execution_count": 3,
     "metadata": {},
     "output_type": "execute_result"
    }
   ],
   "source": [
    "df.head()"
   ]
  },
  {
   "cell_type": "markdown",
   "id": "765026b7",
   "metadata": {},
   "source": [
    "# .tail()"
   ]
  },
  {
   "cell_type": "markdown",
   "id": "8cd094b4",
   "metadata": {},
   "source": [
    "tail is used to show rows by Descending order"
   ]
  },
  {
   "cell_type": "code",
   "execution_count": 4,
   "id": "036745ba",
   "metadata": {},
   "outputs": [
    {
     "data": {
      "text/html": [
       "<div>\n",
       "<style scoped>\n",
       "    .dataframe tbody tr th:only-of-type {\n",
       "        vertical-align: middle;\n",
       "    }\n",
       "\n",
       "    .dataframe tbody tr th {\n",
       "        vertical-align: top;\n",
       "    }\n",
       "\n",
       "    .dataframe thead th {\n",
       "        text-align: right;\n",
       "    }\n",
       "</style>\n",
       "<table border=\"1\" class=\"dataframe\">\n",
       "  <thead>\n",
       "    <tr style=\"text-align: right;\">\n",
       "      <th></th>\n",
       "      <th>Show_Id</th>\n",
       "      <th>Category</th>\n",
       "      <th>Title</th>\n",
       "      <th>Director</th>\n",
       "      <th>Cast</th>\n",
       "      <th>Country</th>\n",
       "      <th>Release_Date</th>\n",
       "      <th>Rating</th>\n",
       "      <th>Duration</th>\n",
       "      <th>Type</th>\n",
       "      <th>Description</th>\n",
       "    </tr>\n",
       "  </thead>\n",
       "  <tbody>\n",
       "    <tr>\n",
       "      <th>7784</th>\n",
       "      <td>s7783</td>\n",
       "      <td>Movie</td>\n",
       "      <td>Zozo</td>\n",
       "      <td>Josef Fares</td>\n",
       "      <td>Imad Creidi, Antoinette Turk, Elias Gergi, Car...</td>\n",
       "      <td>Sweden, Czech Republic, United Kingdom, Denmar...</td>\n",
       "      <td>October 19, 2020</td>\n",
       "      <td>TV-MA</td>\n",
       "      <td>99 min</td>\n",
       "      <td>Dramas, International Movies</td>\n",
       "      <td>When Lebanon's Civil War deprives Zozo of his ...</td>\n",
       "    </tr>\n",
       "    <tr>\n",
       "      <th>7785</th>\n",
       "      <td>s7784</td>\n",
       "      <td>Movie</td>\n",
       "      <td>Zubaan</td>\n",
       "      <td>Mozez Singh</td>\n",
       "      <td>Vicky Kaushal, Sarah-Jane Dias, Raaghav Chanan...</td>\n",
       "      <td>India</td>\n",
       "      <td>March 2, 2019</td>\n",
       "      <td>TV-14</td>\n",
       "      <td>111 min</td>\n",
       "      <td>Dramas, International Movies, Music &amp; Musicals</td>\n",
       "      <td>A scrappy but poor boy worms his way into a ty...</td>\n",
       "    </tr>\n",
       "    <tr>\n",
       "      <th>7786</th>\n",
       "      <td>s7785</td>\n",
       "      <td>Movie</td>\n",
       "      <td>Zulu Man in Japan</td>\n",
       "      <td>NaN</td>\n",
       "      <td>Nasty C</td>\n",
       "      <td>NaN</td>\n",
       "      <td>September 25, 2020</td>\n",
       "      <td>TV-MA</td>\n",
       "      <td>44 min</td>\n",
       "      <td>Documentaries, International Movies, Music &amp; M...</td>\n",
       "      <td>In this documentary, South African rapper Nast...</td>\n",
       "    </tr>\n",
       "    <tr>\n",
       "      <th>7787</th>\n",
       "      <td>s7786</td>\n",
       "      <td>TV Show</td>\n",
       "      <td>Zumbo's Just Desserts</td>\n",
       "      <td>NaN</td>\n",
       "      <td>Adriano Zumbo, Rachel Khoo</td>\n",
       "      <td>Australia</td>\n",
       "      <td>October 31, 2020</td>\n",
       "      <td>TV-PG</td>\n",
       "      <td>1 Season</td>\n",
       "      <td>International TV Shows, Reality TV</td>\n",
       "      <td>Dessert wizard Adriano Zumbo looks for the nex...</td>\n",
       "    </tr>\n",
       "    <tr>\n",
       "      <th>7788</th>\n",
       "      <td>s7787</td>\n",
       "      <td>Movie</td>\n",
       "      <td>ZZ TOP: THAT LITTLE OL' BAND FROM TEXAS</td>\n",
       "      <td>Sam Dunn</td>\n",
       "      <td>NaN</td>\n",
       "      <td>United Kingdom, Canada, United States</td>\n",
       "      <td>March 1, 2020</td>\n",
       "      <td>TV-MA</td>\n",
       "      <td>90 min</td>\n",
       "      <td>Documentaries, Music &amp; Musicals</td>\n",
       "      <td>This documentary delves into the mystique behi...</td>\n",
       "    </tr>\n",
       "  </tbody>\n",
       "</table>\n",
       "</div>"
      ],
      "text/plain": [
       "     Show_Id Category                                    Title     Director  \\\n",
       "7784   s7783    Movie                                     Zozo  Josef Fares   \n",
       "7785   s7784    Movie                                   Zubaan  Mozez Singh   \n",
       "7786   s7785    Movie                        Zulu Man in Japan          NaN   \n",
       "7787   s7786  TV Show                    Zumbo's Just Desserts          NaN   \n",
       "7788   s7787    Movie  ZZ TOP: THAT LITTLE OL' BAND FROM TEXAS     Sam Dunn   \n",
       "\n",
       "                                                   Cast  \\\n",
       "7784  Imad Creidi, Antoinette Turk, Elias Gergi, Car...   \n",
       "7785  Vicky Kaushal, Sarah-Jane Dias, Raaghav Chanan...   \n",
       "7786                                            Nasty C   \n",
       "7787                         Adriano Zumbo, Rachel Khoo   \n",
       "7788                                                NaN   \n",
       "\n",
       "                                                Country        Release_Date  \\\n",
       "7784  Sweden, Czech Republic, United Kingdom, Denmar...    October 19, 2020   \n",
       "7785                                              India       March 2, 2019   \n",
       "7786                                                NaN  September 25, 2020   \n",
       "7787                                          Australia    October 31, 2020   \n",
       "7788              United Kingdom, Canada, United States       March 1, 2020   \n",
       "\n",
       "     Rating  Duration                                               Type  \\\n",
       "7784  TV-MA    99 min                       Dramas, International Movies   \n",
       "7785  TV-14   111 min     Dramas, International Movies, Music & Musicals   \n",
       "7786  TV-MA    44 min  Documentaries, International Movies, Music & M...   \n",
       "7787  TV-PG  1 Season                 International TV Shows, Reality TV   \n",
       "7788  TV-MA    90 min                    Documentaries, Music & Musicals   \n",
       "\n",
       "                                            Description  \n",
       "7784  When Lebanon's Civil War deprives Zozo of his ...  \n",
       "7785  A scrappy but poor boy worms his way into a ty...  \n",
       "7786  In this documentary, South African rapper Nast...  \n",
       "7787  Dessert wizard Adriano Zumbo looks for the nex...  \n",
       "7788  This documentary delves into the mystique behi...  "
      ]
     },
     "execution_count": 4,
     "metadata": {},
     "output_type": "execute_result"
    }
   ],
   "source": [
    "df.tail()"
   ]
  },
  {
   "cell_type": "markdown",
   "id": "2df4f57a",
   "metadata": {},
   "source": [
    "# .shape"
   ]
  },
  {
   "cell_type": "markdown",
   "id": "11191fba",
   "metadata": {},
   "source": [
    "It show the total no of rows & Column in the dataset"
   ]
  },
  {
   "cell_type": "code",
   "execution_count": 5,
   "id": "3408ca28",
   "metadata": {},
   "outputs": [
    {
     "data": {
      "text/plain": [
       "(7789, 11)"
      ]
     },
     "execution_count": 5,
     "metadata": {},
     "output_type": "execute_result"
    }
   ],
   "source": [
    "df.shape"
   ]
  },
  {
   "cell_type": "markdown",
   "id": "f792d26f",
   "metadata": {},
   "source": [
    "# .Columns"
   ]
  },
  {
   "cell_type": "markdown",
   "id": "20fa4ae3",
   "metadata": {},
   "source": [
    "It show the no of each Column"
   ]
  },
  {
   "cell_type": "code",
   "execution_count": 6,
   "id": "b03593be",
   "metadata": {},
   "outputs": [
    {
     "data": {
      "text/plain": [
       "Index(['Show_Id', 'Category', 'Title', 'Director', 'Cast', 'Country',\n",
       "       'Release_Date', 'Rating', 'Duration', 'Type', 'Description'],\n",
       "      dtype='object')"
      ]
     },
     "execution_count": 6,
     "metadata": {},
     "output_type": "execute_result"
    }
   ],
   "source": [
    "df.columns"
   ]
  },
  {
   "cell_type": "markdown",
   "id": "bcf310c4",
   "metadata": {},
   "source": [
    "# .info"
   ]
  },
  {
   "cell_type": "markdown",
   "id": "4f8dd793",
   "metadata": {},
   "source": [
    "This Attribute show the information about the data set"
   ]
  },
  {
   "cell_type": "code",
   "execution_count": 7,
   "id": "8aad8ed9",
   "metadata": {},
   "outputs": [
    {
     "data": {
      "text/plain": [
       "Show_Id         object\n",
       "Category        object\n",
       "Title           object\n",
       "Director        object\n",
       "Cast            object\n",
       "Country         object\n",
       "Release_Date    object\n",
       "Rating          object\n",
       "Duration        object\n",
       "Type            object\n",
       "Description     object\n",
       "dtype: object"
      ]
     },
     "execution_count": 7,
     "metadata": {},
     "output_type": "execute_result"
    }
   ],
   "source": [
    "df.dtypes"
   ]
  },
  {
   "cell_type": "markdown",
   "id": "e3fbcca1",
   "metadata": {},
   "source": [
    "# .unique()"
   ]
  },
  {
   "cell_type": "markdown",
   "id": "008df379",
   "metadata": {},
   "source": [
    "In a column, It show the unique value of specific column.\n",
    "- Q. Find out what are the different countries predent in the dataset\n",
    "- Q. Pring any 5 countries from this dataset using array slicing"
   ]
  },
  {
   "cell_type": "code",
   "execution_count": 8,
   "id": "e37ab9a4",
   "metadata": {},
   "outputs": [
    {
     "name": "stdout",
     "output_type": "stream",
     "text": [
      "Different countries present in the dataset:\n",
      "Brazil\n",
      "Mexico\n",
      "Singapore\n",
      "United States\n",
      "Turkey\n",
      "Egypt\n",
      "India\n",
      "Poland, United States\n",
      "Thailand\n",
      "Nigeria\n",
      "nan\n",
      "Norway, Iceland, United States\n",
      "United Kingdom\n",
      "Japan\n",
      "South Korea\n",
      "Italy\n",
      "Canada\n",
      "Indonesia\n",
      "Romania\n",
      "Spain\n",
      "Iceland\n",
      "South Africa, Nigeria\n",
      "France\n",
      "United States, South Africa\n",
      "Portugal, Spain\n",
      "Hong Kong, China, Singapore\n",
      "United States, Germany\n",
      "South Africa, China, United States\n",
      "Argentina\n",
      "United States, France, Serbia\n",
      "Germany\n",
      "Denmark, France, Poland\n",
      "Poland\n",
      "Kenya\n",
      "New Zealand, United Kingdom\n",
      "Pakistan\n",
      "Australia\n",
      "Australia, United States\n",
      "Mexico, United States\n",
      "United States, China\n",
      "China, Hong Kong\n",
      "Taiwan\n",
      "United States, United Kingdom\n",
      "France, South Korea, Japan\n",
      "United States, Canada\n",
      "United Kingdom, United States\n",
      "Netherlands, Denmark, South Africa\n",
      "Canada, United States\n",
      "Denmark\n",
      "Hong Kong\n",
      "France, Netherlands, Singapore\n",
      "China\n",
      "Philippines\n",
      "United Kingdom, Spain, United States\n",
      "United Arab Emirates, United States\n",
      "Netherlands\n",
      "United Kingdom, Hong Kong\n",
      "Iran, France\n",
      "United States, United Kingdom, France\n",
      "United Kingdom, France, Belgium, United States, China\n",
      "Argentina, Brazil, France, Poland, Germany, Denmark\n",
      "Israel, United States\n",
      "United States, Mexico\n",
      "Uruguay, Argentina, Spain\n",
      "Singapore, France\n",
      "United Kingdom, United States, France, Germany\n",
      "Turkey, United States\n",
      "Bulgaria, United States\n",
      "Australia, France\n",
      "Hong Kong, Iceland, United States\n",
      "United Arab Emirates\n",
      "United States, Chile\n",
      "Germany, France, Russia\n",
      "Mauritius, South Africa\n",
      "United States, Japan\n",
      "Lebanon\n",
      "United States, Bulgaria\n",
      "Colombia\n",
      "Uruguay, Argentina\n",
      "Egypt, Algeria\n",
      "France, Egypt\n",
      "Uruguay\n",
      "Soviet Union, India\n",
      "Sweden, United States\n",
      "South Africa\n",
      "Malaysia\n",
      "Ireland, United Kingdom, United States\n",
      "Spain, Italy\n",
      "United Kingdom, France, Germany\n",
      "United States, Germany, Canada\n",
      "United States, India\n",
      "Japan, United States\n",
      "Denmark, United States\n",
      "South Africa, United States\n",
      "Canada, Luxembourg\n",
      "Serbia, United States\n",
      "Canada, Nigeria\n",
      "Iceland, Sweden, Belgium\n",
      "Ireland, Canada\n",
      "United States, Italy\n",
      "Finland\n",
      "India, Germany\n",
      "China, Spain, South Korea, United States\n",
      "Spain, Belgium\n",
      "United Kingdom, Canada, United States, Germany\n",
      "Brazil, Netherlands, United States, Colombia, Austria, Germany\n",
      "France, Canada, Belgium\n",
      "India, United Kingdom, China, Canada, Japan, South Korea, United States\n",
      "France, Belgium\n",
      "Indonesia, South Korea, Singapore\n",
      "Norway\n",
      "Peru\n",
      "France, Senegal, Belgium\n",
      "Canada, France\n",
      "Chile\n",
      "Romania, France, Switzerland, Germany\n",
      "Bulgaria, United States, Spain, Canada\n",
      "Sweden, Netherlands\n",
      "Ghana\n",
      "France, United States, Mexico\n",
      "Australia, United Kingdom, United Arab Emirates, Canada\n",
      "Singapore, United States\n",
      "Japan, Canada, United States\n",
      "Saudi Arabia\n",
      "Australia, Armenia, Japan, Jordan, Mexico, Mongolia, New Zealand, Philippines, South Africa, Sweden, United States, Uruguay\n",
      "United States, France\n",
      "Norway, Denmark, Netherlands, Sweden\n",
      "Namibia\n",
      "Mexico, Finland\n",
      "United States, Australia\n",
      "Russia\n",
      "Australia, Canada\n",
      "United Kingdom, Ireland\n",
      "Belgium, France\n",
      "New Zealand\n",
      "Uruguay, Spain, Mexico\n",
      "South Korea, China\n",
      "United States, Canada, Indonesia, United Kingdom, China, Singapore\n",
      "India, Iran\n",
      "United States, France, Japan\n",
      "United Kingdom, France\n",
      "Turkey, India\n",
      "Philippines, Qatar\n",
      "Vietnam\n",
      "Ireland, Luxembourg, Belgium\n",
      "Saudi Arabia, Syria, Egypt, Lebanon, Kuwait\n",
      "Russia, United States\n",
      "United Kingdom, Russia, United States\n",
      "Argentina, Spain\n",
      "Germany, Jordan, Netherlands\n",
      "Hong Kong, China\n",
      "Argentina, United States\n",
      "France, Belgium, Spain\n",
      "Germany, United States\n",
      "Denmark, Sweden, Israel, United States\n",
      "Ireland, United Kingdom\n",
      "United States, Iceland\n",
      "United Arab Emirates, United Kingdom, India\n",
      "Sweden\n",
      "Norway, Germany, Sweden\n",
      "Finland, France\n",
      "Denmark, Spain\n",
      "United Kingdom, Russia\n",
      "United States, United Kingdom, Australia\n",
      "India, United Kingdom\n",
      "United States, Canada, Ireland\n",
      "Canada, United Kingdom\n",
      "United States, Israel, Italy, South Africa\n",
      "India, United States\n",
      "United Kingdom, China\n",
      "Indonesia, Singapore\n",
      "Netherlands, Denmark, France, Germany\n",
      "South Korea, Japan\n",
      "Philippines, Canada, United Kingdom, United States\n",
      "France, Malta, United States\n",
      "Kuwait\n",
      "United Kingdom, Pakistan\n",
      "Ireland\n",
      "France, New Zealand\n",
      "United Kingdom, United States, Australia\n",
      "United Kingdom, Czech Republic, United States, Germany, Bahamas\n",
      "United States, Australia, China\n",
      "China, Germany, India, United States\n",
      "Germany, Sri Lanka\n",
      "United States, Sweden\n",
      "Canada, United States, Cayman Islands\n",
      "India, France\n",
      "United Kingdom, Canada\n",
      "United States, India, Bangladesh\n",
      "United States, Canada, France\n",
      "Taiwan, China, France, United States\n",
      "Brazil, France, Germany\n",
      "United States,\n",
      "Turkey, France, Germany, Poland\n",
      "Australia, New Zealand, United States\n",
      "Germany, United States, Hong Kong, Singapore\n",
      "France, Germany, Switzerland\n",
      "Mexico, Argentina\n",
      "Italy, United States, Argentina\n",
      "Germany, France, Luxembourg, United Kingdom, United States\n",
      "Canada, United States, United Kingdom\n",
      "United Kingdom, Canada, Italy\n",
      "Czech Republic, France\n",
      "Zimbabwe\n",
      "United Kingdom, France, Germany, Spain\n",
      "Taiwan, Hong Kong, United States, China\n",
      "China, United States\n",
      "Canada, Brazil\n",
      "United Kingdom, Australia\n",
      "Hungary\n",
      "Germany, Australia\n",
      "United Kingdom, Poland, United States\n",
      "Bulgaria\n",
      "Philippines, United States\n",
      "Finland, Germany\n",
      "United States, Thailand\n",
      "Spain, Belgium, Switzerland, United States, China, United Kingdom\n",
      "Denmark, Zimbabwe\n",
      "United Kingdom, South Africa\n",
      "Finland, Sweden, Norway, Latvia, Germany\n",
      "United Kingdom, India\n",
      "South Africa, United States, New Zealand, Canada\n",
      "France, Qatar\n",
      "France, Algeria\n",
      "United States, Italy, United Kingdom, Liechtenstein\n",
      "Denmark, France, Belgium, Italy, Netherlands, United States, United Kingdom\n",
      "United States, Australia, Mexico\n",
      "United Kingdom, Czech Republic, Germany, United States\n",
      "Russia, Poland, Serbia\n",
      "France, China, Japan, United States\n",
      "United States, South Korea, China\n",
      "Germany, Belgium\n",
      "Chile, Argentina\n",
      "China, United States, United Kingdom\n",
      "Pakistan, Norway, United States\n",
      "United Kingdom, Japan, United States\n",
      "Philippines, Singapore\n",
      "United States, Canada, Belgium, United Kingdom\n",
      "Venezuela\n",
      "Argentina, Uruguay, Serbia\n",
      "United States, Mexico, Colombia\n",
      "Colombia, Peru, United Kingdom\n",
      "Brazil, United States\n",
      "Czech Republic, United States\n",
      "Canada, France, Italy, Morocco, United States\n",
      "Canada, Spain, France\n",
      "Hong Kong, United States\n",
      "France, Canada, China, Cambodia\n",
      "United States, Indonesia\n",
      "Spain, France\n",
      "Spain, Mexico, France\n",
      "Spain, France, Italy\n",
      "Spain, France, United States\n",
      "United States, France, Canada\n",
      "Israel\n",
      "Italy, France\n",
      "United Kingdom, Canada, United States\n",
      "Cambodia, United States\n",
      "China, Japan\n",
      "United Arab Emirates, United States, United Kingdom\n",
      "Argentina, Italy\n",
      "United Kingdom, Israel, Russia\n",
      "Italy, Switzerland, Albania, Poland\n",
      "Spain, Cuba\n",
      "United States, Brazil\n",
      "United States, France, Mexico\n",
      "United States, Nicaragua\n",
      "Austria, Germany\n",
      "United Arab Emirates, Jordan, Lebanon\n",
      "France, United Kingdom, United States\n",
      "United Kingdom, United States, Spain, Germany, Greece, Canada\n",
      "France, Belgium, Luxembourg, Cambodia,\n",
      "Italy, Turkey\n",
      "Brazil, France\n",
      "India, Turkey\n",
      "Kenya, United States\n",
      "United States, South Korea\n",
      "South Korea, United States\n",
      "Italy, Canada, France\n",
      "Thailand, United States\n",
      "United Kingdom, Denmark, Canada, Croatia\n",
      "Netherlands, Belgium\n",
      "United Kingdom, Canada, United States, Cayman Islands\n",
      "Italy, Germany\n",
      "United States, France, United Kingdom, Japan\n",
      "United States, United Kingdom, Denmark, Sweden\n",
      "United States, United Kingdom, Italy\n",
      "United States, France, Canada, Spain\n",
      "Uruguay, Guatemala\n",
      "Germany, Australia, France, China\n",
      "United States, United Kingdom, Japan\n",
      "United States, United Kingdom, Canada\n",
      "Italy, Switzerland, France, Germany\n",
      "Russia, United States, China\n",
      "United States, Canada, Germany\n",
      "United States, Czech Republic\n",
      "Ireland, United States\n",
      "United States, United Arab Emirates\n",
      "France, Australia, Germany\n",
      "Hong Kong, China, United States\n",
      "Lebanon, United Arab Emirates, France, Switzerland, Germany\n",
      "United States, South Korea, Japan\n",
      "Romania, United States\n",
      "West Germany\n",
      "United States, Ireland\n",
      "Chile, Italy\n",
      "Ireland, United Kingdom, Italy, United States\n",
      "Belgium\n",
      "Poland,\n",
      "Slovenia, Croatia, Germany, Czech Republic, Qatar\n",
      "Canada, United Kingdom, Netherlands\n",
      "United Kingdom, United States, France\n",
      "Indonesia, United Kingdom\n",
      "United States, Spain, Germany\n",
      "India, Japan\n",
      "Switzerland, France, Belgium, United States\n",
      "China, South Korea, United States\n",
      "United Kingdom, France, Belgium\n",
      "Canada, Ireland, United States\n",
      "United Kingdom, United States, Dominican Republic\n",
      "United States, Senegal\n",
      "Germany, United Kingdom, United States\n",
      "United States, Canada, United Kingdom\n",
      "Canada, United States, France\n",
      "United Kingdom, Germany, Canada\n",
      "Argentina, France\n",
      "South Africa, Germany, Netherlands, France\n",
      "Canada, United States, United Kingdom, France, Luxembourg\n",
      "Finland, Germany, Belgium\n",
      "United States, United Kingdom, Germany\n",
      "Taiwan, China\n",
      "Cambodia\n",
      "Spain, Portugal\n",
      "Ireland, United States, France\n",
      "Jordan\n",
      "Austria\n",
      "Germany, United States, Canada\n",
      "United Kingdom, Germany, Canada, United States\n",
      "United States, France, Canada, Lebanon, Qatar\n",
      "Indonesia, Netherlands\n",
      "Netherlands, Belgium, United Kingdom, United States\n",
      "China, United States, Australia\n",
      "France, Belgium, China, United States\n",
      "Spain, United Kingdom\n",
      "United States, Chile, Israel\n",
      "Bangladesh\n",
      "United Kingdom, Norway, Denmark, Germany, Sweden\n",
      "United States, Japan, Canada\n",
      "Norway, Denmark, Sweden\n",
      "China, India, Nepal\n",
      "United States, Argentina\n",
      "Mexico, United States, Spain, Colombia\n",
      "Colombia, Mexico, United States\n",
      "United Kingdom, Belgium, Sweden\n",
      "Nigeria, United Kingdom\n",
      "United Kingdom, South Korea\n",
      "United States, Taiwan\n",
      "Netherlands, Belgium, Germany, Jordan\n",
      "France, Canada\n",
      "United Kingdom, France, United States\n",
      "Denmark, Singapore, Canada, United States\n",
      "Denmark, China\n",
      "Malaysia, Singapore, Hong Kong\n",
      "Norway, United States\n",
      "United States, Philippines\n",
      "United States, Greece, Brazil\n",
      "France, United States\n",
      "South Korea, France\n",
      "United States, Australia, Samoa, United Kingdom\n",
      "Canada, South Africa\n",
      "United Kingdom, Italy\n",
      "Germany, United Kingdom\n",
      "China, United Kingdom\n",
      "Argentina, Chile, Peru\n",
      "United States, Russia\n",
      "Uruguay, Germany\n",
      "Turkey, Azerbaijan\n",
      "United States, China, Hong Kong\n",
      "Canada, Germany, France, United States\n",
      "Argentina, United States, Mexico\n",
      "France, United Kingdom, India\n",
      "China, Taiwan\n",
      "Italy, United Kingdom, France\n",
      "Poland, West Germany\n",
      "Germany, United States, Sweden\n",
      "Canada, Spain\n",
      "United Kingdom, France, Belgium, United States\n",
      "France, Japan\n",
      "Netherlands, Germany, Italy, Canada\n",
      "United States, Cambodia\n",
      "United States, Greece\n",
      "United States, China, Colombia\n",
      "United States, Spain, Italy\n",
      "Norway, United Kingdom, France, Ireland\n",
      "United States, Bermuda, Ecuador\n",
      "United Kingdom, Poland\n",
      "China, Canada, United States\n",
      "United States, Spain\n",
      "India, Mexico\n",
      "United Kingdom, West Germany\n",
      "Pakistan, United States\n",
      "Israel, Sweden, Germany, Netherlands\n",
      "Chile, United States, France\n",
      "France, Morocco\n",
      "United Kingdom, Germany\n",
      "Georgia, Germany, France\n",
      "Switzerland, France\n",
      "Turkey, South Korea\n",
      "Italy, India\n",
      "United States, Botswana\n",
      "United States, Colombia, Mexico\n",
      "Chile, Argentina, France, Spain, United States\n",
      "Puerto Rico, United States, Colombia\n",
      "United States, Nigeria\n",
      "Germany, United States, France\n",
      "Spain, Germany, Denmark, United States\n",
      "United Kingdom, United States, Japan\n",
      "Netherlands, United States\n",
      "United States, India, South Korea, China\n",
      "Denmark, Germany, Belgium, United Kingdom, France\n",
      "Denmark, Germany, Belgium, United Kingdom, France, Sweden\n",
      "France, Switzerland, Spain, United States, United Arab Emirates\n",
      "Norway, Sweden\n",
      "United States, Ireland, United Kingdom, India\n",
      "United Kingdom, Singapore\n",
      "Spain, Germany\n",
      "Germany, Czech Republic\n",
      "Denmark, Brazil, France, Portugal, Sweden\n",
      "Brazil, India, China, United States\n",
      "India, Germany, Austria\n",
      "Italy, United States\n",
      "Denmark, France, United States, Sweden\n",
      "Australia, Iraq\n",
      "China, Morocco, Hong Kong\n",
      "Spain, Colombia\n",
      "Australia, United Arab Emirates\n",
      "Canada, United States, Germany\n",
      "France, Belgium, Italy\n",
      "United Kingdom, Thailand\n",
      "Venezuela, Colombia\n",
      "France, Luxembourg, Canada\n",
      "India, Nepal\n",
      "Mexico, Spain\n",
      "Colombia, United States\n",
      "Colombia, Mexico\n",
      "France, Germany, Czech Republic, Belgium\n",
      "Germany, China, United Kingdom\n",
      "Canada, Hungary, United States\n",
      "Pakistan, United Arab Emirates\n",
      "France, United Kingdom\n",
      "Spain, United Kingdom, United States\n",
      "United Kingdom, Kenya\n",
      "United States, Norway, Canada\n",
      "Canada, United States, Ireland\n",
      "Switzerland, Vatican City, Italy, Germany, France\n",
      "Portugal, France, Poland, United States\n",
      "France, Japan, United States\n",
      "United States, New Zealand\n",
      "United States, New Zealand, Japan\n",
      "United States, Netherlands, Japan, France\n",
      "India, Switzerland\n",
      "Canada, India\n",
      "Canada, Japan, United States\n",
      "United States, Morocco\n",
      "United States, Mexico, Spain, Malta\n",
      "Norway, Denmark\n",
      "South Korea, Canada, United States, China\n",
      "Singapore, Japan, France\n",
      "Canada, Mexico, Germany, South Africa\n",
      "United Kingdom, United States, Canada\n",
      "Germany, France, United States, Canada, United Kingdom\n",
      "Peru, Germany, Norway\n",
      "Singapore, Malaysia\n",
      "United States, Uruguay\n",
      "India, Canada\n",
      "Ireland, Canada, United Kingdom, United States\n",
      "United States, Germany, Australia\n",
      "Senegal\n",
      "Israel, Germany, France\n",
      "Australia, France, Ireland\n",
      "South Africa, Angola\n",
      "Austria, Czech Republic\n",
      "Australia, India\n",
      "United States, United Kingdom, Canada, Japan\n",
      "Sweden, United Kingdom, Finland\n",
      "Hong Kong, Taiwan\n",
      "United States, United Kingdom, Spain, South Korea\n",
      "South Korea, China, United States\n",
      "Guatemala\n",
      "Ukraine\n",
      "United States, United Kingdom, Canada, China\n",
      "Italy, South Africa, West Germany, Australia, United States\n",
      "United Kingdom, Finland, Germany\n",
      "South Africa, United States, Germany\n",
      "United States, Germany, United Kingdom, Australia\n",
      "India, Soviet Union\n",
      "Italy, France, Switzerland\n",
      "Canada, France, United States\n",
      "United States, Colombia\n",
      "India, Malaysia\n",
      "Switzerland, United States\n",
      "Thailand, Canada, United States\n",
      "China, Hong Kong, United States\n",
      "United Kingdom, New Zealand\n",
      "United Kingdom, France, Germany, United States\n",
      "South Korea, Czech Republic\n",
      "Czech Republic, United Kingdom, France\n",
      "Australia, United Kingdom, Canada\n",
      "Canada, United Kingdom, United States\n",
      "United States, Hungary\n",
      "Jamaica, United States\n",
      "Switzerland\n",
      "Australia, United Kingdom, United States, New Zealand, Italy, France\n",
      "France, United States, Canada\n",
      "Australia, United Kingdom\n",
      "United States, Denmark\n",
      "United Kingdom, France, Canada, Belgium, United States\n",
      "Denmark, United Kingdom, Sweden\n",
      "Belarus\n",
      "Cyprus\n",
      "Lebanon, United States, United Arab Emirates\n",
      "United States, Hong Kong\n",
      "United States, Kazakhstan\n",
      "Argentina, France, United States, Germany, Qatar\n",
      "United States, Germany, United Kingdom\n",
      "United States, Germany, United Kingdom, Italy\n",
      "United States, New Zealand, United Kingdom\n",
      "Finland, United States\n",
      "Spain, France, Uruguay\n",
      "France, Belgium, United States\n",
      "France, Canada, United States\n",
      "Spain, Argentina\n",
      "United Kingdom, India, United States\n",
      "Chile, France\n",
      "United States, United Kingdom, France, Germany, Japan\n",
      "Canada, Norway\n",
      "United States, Hungary, Ireland, Canada\n",
      "United States, Canada, China\n",
      "United Kingdom, Malawi\n",
      "Ireland, Canada, Luxembourg, United States, United Kingdom, Philippines, India\n",
      "United States, Czech Republic, United Kingdom\n",
      "Ghana, United States\n",
      "Israel, Germany\n",
      "Spain, Mexico\n",
      "Mexico, France\n",
      "Brazil, United Kingdom\n",
      "France, Belgium, Luxembourg, Romania, Canada, United States\n",
      "Israel, Germany, Poland, Luxembourg, Belgium, France, United States\n",
      "France, Germany\n",
      "United States, Malta, France, United Kingdom\n",
      "United Kingdom, United States, Germany, Denmark, Belgium, Japan\n",
      "Austria, United States\n",
      "Canada, Australia\n",
      "Greece, United States\n",
      "United Kingdom, France, Belgium, Canada, United States\n",
      "Argentina, Chile\n",
      "Czech Republic, Slovakia\n",
      "United Kingdom, Germany, United States, France\n",
      "United Kingdom, Lithuania\n",
      "Egypt, France\n",
      "Spain, France, Canada\n",
      "United States, Greece, United Kingdom\n",
      "United Kingdom, China, United States, India\n",
      "Taiwan, Malaysia\n",
      "United States, Sweden, Norway\n",
      "United Kingdom, United States, Morocco\n",
      "United States, United Kingdom, Morocco\n",
      "United States, China, Canada\n",
      "Spain, Canada, United States\n",
      "Canada, Belgium\n",
      "United States, India, United Arab Emirates\n",
      "United Kingdom, Canada, France, United States\n",
      "Spain, Thailand, United States\n",
      "Canada, Germany, South Africa\n",
      "India, Germany, France\n",
      "United States, Israel, United Kingdom, Canada\n",
      "United Kingdom, Hungary, Australia\n",
      "Lebanon, France\n",
      "Belgium, Ireland, Netherlands, Germany, Afghanistan\n",
      "Chile, Peru\n",
      "Paraguay, Argentina\n",
      "United Kingdom, Italy, Israel, Peru, United States\n",
      "Norway, Germany\n",
      "France, Canada, Italy, United States, China\n",
      "Netherlands, Germany, Denmark, United Kingdom\n",
      "France, Lebanon\n",
      "Ireland, United Kingdom, Greece, France, Netherlands\n",
      "Denmark, Indonesia, Finland, Norway, United Kingdom, Israel, France, United States, Germany, Netherlands\n",
      "New Zealand, United States\n",
      "Argentina, Uruguay, Spain, France\n",
      "United Kingdom, Germany, United States\n",
      "United States, Australia, South Africa, United Kingdom\n",
      "Italy, Belgium\n",
      "United States, Germany, Mexico\n",
      "Chile, Spain, Argentina, Germany\n",
      "Germany, Italy\n",
      "United Kingdom, Nigeria\n",
      "Belgium, United Kingdom, United States\n",
      "Australia, New Zealand\n",
      "Spain, Switzerland\n",
      "Indonesia, United States\n",
      "Canada, South Korea, United States\n",
      "France, Iran, United States\n",
      "Croatia\n",
      "Somalia, Kenya, Sudan, South Africa, United States\n",
      "Ireland, France, Iceland, United States, Mexico, Belgium, United Kingdom, Hong Kong\n",
      "Spain, United States\n",
      "United States, Canada, Japan, Panama\n",
      "United Kingdom, Spain, Belgium\n",
      "Serbia, South Korea, Slovenia\n",
      "Denmark, United Kingdom, South Africa, Sweden, Belgium\n",
      "Germany, Canada, United States\n",
      "Ireland, South Africa\n",
      "Canada, Germany\n",
      "Spain, France, Canada, United States\n",
      "India, United Kingdom, Canada, United States\n",
      "United States, Belgium, Canada\n",
      "United States, France, Canada, Belgium\n",
      "United Kingdom, Egypt, United States\n",
      "United Kingdom, Germany, United Arab Emirates, New Zealand\n",
      "United Kingdom, France, United States, Belgium, Luxembourg, China, Germany\n",
      "United Kingdom, Spain, United States, Germany\n",
      "United States, France, Italy, United Kingdom\n",
      "Georgia\n",
      "United States, United Kingdom, India\n",
      "Ireland, Canada, United States, United Kingdom\n",
      "New Zealand, United Kingdom, Australia\n",
      "United States, Poland\n",
      "United Arab Emirates, Romania\n",
      "United Kingdom, Australia, Canada, United States\n",
      "Mexico, Netherlands\n",
      "Spain, Italy, Argentina\n",
      "Germany, United States, Italy\n",
      "United States, Venezuela\n",
      "United Kingdom, Canada, Japan\n",
      "Canada, Japan, Netherlands\n",
      "United Kingdom, United States, Czech Republic\n",
      "United Kingdom, China, United States\n",
      "United Kingdom, Brazil, Germany\n",
      "Thailand, China, United States\n",
      "United Kingdom, Namibia, South Africa, Zimbabwe, United States\n",
      "United Kingdom, South Africa, Australia, United States\n",
      "Canada, United States, India, United Kingdom\n",
      "United States, Brazil, South Korea, Mexico, Japan, Germany\n",
      "France, Lebanon, United Kingdom\n",
      "United Kingdom, Jordan, Qatar, Iran\n",
      "Switzerland, United Kingdom, United States\n",
      "Belgium, Netherlands\n",
      "United Kingdom, Germany, France, United States\n",
      "Romania, United Kingdom\n",
      "Lebanon, Qatar\n",
      "United Kingdom, India, Sweden\n",
      "United Kingdom, Belgium\n",
      "India, Pakistan\n",
      "United Kingdom,\n",
      "Saudi Arabia, Netherlands, Germany, Jordan, United Arab Emirates, United States\n",
      "France, Brazil, Spain, Belgium\n",
      "United States, Brazil, India, Uganda, China\n",
      "United Kingdom, Ireland, United States\n",
      "Lebanon, Canada, France\n",
      "India, Australia\n",
      "Austria, Iraq, United States\n",
      "France, Norway, Lebanon, Belgium\n",
      "United Kingdom, France, United States, Belgium\n",
      "Saudi Arabia, United Arab Emirates\n",
      "Peru, United States, United Kingdom\n",
      "Germany, United States, United Kingdom, Canada\n",
      "Uruguay, Argentina, Germany, Spain\n",
      "France, Luxembourg, United States\n",
      "United Kingdom, Spain\n",
      "Canada, India, Thailand, United States, United Arab Emirates\n",
      "Romania, Bulgaria, Hungary\n",
      "United States, East Germany, West Germany\n",
      "France, Netherlands, South Africa, Finland\n",
      "United Kingdom, Ukraine, United States\n",
      "Egypt, Austria, United States\n",
      "Russia, Spain\n",
      "Croatia, Slovenia, Serbia, Montenegro\n",
      "Japan, Canada\n",
      "United States, France, South Korea, Indonesia\n",
      "United Arab Emirates, Jordan\n",
      "Sweden, Czech Republic, United Kingdom, Denmark, Netherlands\n"
     ]
    }
   ],
   "source": [
    "unique_countries = df['Country'].unique()\n",
    "print(\"Different countries present in the dataset:\")\n",
    "for country in unique_countries:\n",
    "    print(country)"
   ]
  },
  {
   "cell_type": "code",
   "execution_count": 9,
   "id": "94102acc",
   "metadata": {},
   "outputs": [
    {
     "name": "stdout",
     "output_type": "stream",
     "text": [
      "Five countries from the dataset using array slicing:\n",
      "['Brazil' 'Mexico' 'Singapore' 'United States' 'Turkey']\n"
     ]
    }
   ],
   "source": [
    "five_countries = df['Country'].unique()[:5]\n",
    "print(\"Five countries from the dataset using array slicing:\")\n",
    "print(five_countries)"
   ]
  },
  {
   "cell_type": "markdown",
   "id": "e91cc709",
   "metadata": {},
   "source": [
    "# .nuique()"
   ]
  },
  {
   "cell_type": "markdown",
   "id": "c5cb0ab6",
   "metadata": {},
   "source": [
    "* Q. show the total no of unque value from whole data frame"
   ]
  },
  {
   "cell_type": "code",
   "execution_count": 10,
   "id": "531d5eb0",
   "metadata": {},
   "outputs": [
    {
     "name": "stdout",
     "output_type": "stream",
     "text": [
      "Total number of unique values in the DataFrame: 37194\n"
     ]
    }
   ],
   "source": [
    "total_unique_values = df.nunique().sum()\n",
    "print(\"Total number of unique values in the DataFrame:\", total_unique_values)"
   ]
  },
  {
   "cell_type": "markdown",
   "id": "857aaf2c",
   "metadata": {},
   "source": [
    "# .describe()"
   ]
  },
  {
   "cell_type": "markdown",
   "id": "09609b99",
   "metadata": {},
   "source": [
    "It show the Count, mean , median etc\n",
    "- Q. Do you need to use describe for this data set analysis?"
   ]
  },
  {
   "cell_type": "code",
   "execution_count": 11,
   "id": "f25e8c38",
   "metadata": {},
   "outputs": [
    {
     "data": {
      "text/html": [
       "<div>\n",
       "<style scoped>\n",
       "    .dataframe tbody tr th:only-of-type {\n",
       "        vertical-align: middle;\n",
       "    }\n",
       "\n",
       "    .dataframe tbody tr th {\n",
       "        vertical-align: top;\n",
       "    }\n",
       "\n",
       "    .dataframe thead th {\n",
       "        text-align: right;\n",
       "    }\n",
       "</style>\n",
       "<table border=\"1\" class=\"dataframe\">\n",
       "  <thead>\n",
       "    <tr style=\"text-align: right;\">\n",
       "      <th></th>\n",
       "      <th>Show_Id</th>\n",
       "      <th>Category</th>\n",
       "      <th>Title</th>\n",
       "      <th>Director</th>\n",
       "      <th>Cast</th>\n",
       "      <th>Country</th>\n",
       "      <th>Release_Date</th>\n",
       "      <th>Rating</th>\n",
       "      <th>Duration</th>\n",
       "      <th>Type</th>\n",
       "      <th>Description</th>\n",
       "    </tr>\n",
       "  </thead>\n",
       "  <tbody>\n",
       "    <tr>\n",
       "      <th>count</th>\n",
       "      <td>7789</td>\n",
       "      <td>7789</td>\n",
       "      <td>7789</td>\n",
       "      <td>5401</td>\n",
       "      <td>7071</td>\n",
       "      <td>7282</td>\n",
       "      <td>7779</td>\n",
       "      <td>7782</td>\n",
       "      <td>7789</td>\n",
       "      <td>7789</td>\n",
       "      <td>7789</td>\n",
       "    </tr>\n",
       "    <tr>\n",
       "      <th>unique</th>\n",
       "      <td>7787</td>\n",
       "      <td>2</td>\n",
       "      <td>7787</td>\n",
       "      <td>4050</td>\n",
       "      <td>6831</td>\n",
       "      <td>681</td>\n",
       "      <td>1565</td>\n",
       "      <td>14</td>\n",
       "      <td>216</td>\n",
       "      <td>492</td>\n",
       "      <td>7769</td>\n",
       "    </tr>\n",
       "    <tr>\n",
       "      <th>top</th>\n",
       "      <td>s6621</td>\n",
       "      <td>Movie</td>\n",
       "      <td>The Lost Okoroshi</td>\n",
       "      <td>Raúl Campos, Jan Suter</td>\n",
       "      <td>David Attenborough</td>\n",
       "      <td>United States</td>\n",
       "      <td>January 1, 2020</td>\n",
       "      <td>TV-MA</td>\n",
       "      <td>1 Season</td>\n",
       "      <td>Documentaries</td>\n",
       "      <td>Multiple women report their husbands as missin...</td>\n",
       "    </tr>\n",
       "    <tr>\n",
       "      <th>freq</th>\n",
       "      <td>2</td>\n",
       "      <td>5379</td>\n",
       "      <td>2</td>\n",
       "      <td>18</td>\n",
       "      <td>18</td>\n",
       "      <td>2556</td>\n",
       "      <td>118</td>\n",
       "      <td>2865</td>\n",
       "      <td>1608</td>\n",
       "      <td>334</td>\n",
       "      <td>3</td>\n",
       "    </tr>\n",
       "  </tbody>\n",
       "</table>\n",
       "</div>"
      ],
      "text/plain": [
       "       Show_Id Category              Title                Director  \\\n",
       "count     7789     7789               7789                    5401   \n",
       "unique    7787        2               7787                    4050   \n",
       "top      s6621    Movie  The Lost Okoroshi  Raúl Campos, Jan Suter   \n",
       "freq         2     5379                  2                      18   \n",
       "\n",
       "                      Cast        Country     Release_Date Rating  Duration  \\\n",
       "count                 7071           7282             7779   7782      7789   \n",
       "unique                6831            681             1565     14       216   \n",
       "top     David Attenborough  United States  January 1, 2020  TV-MA  1 Season   \n",
       "freq                    18           2556              118   2865      1608   \n",
       "\n",
       "                 Type                                        Description  \n",
       "count            7789                                               7789  \n",
       "unique            492                                               7769  \n",
       "top     Documentaries  Multiple women report their husbands as missin...  \n",
       "freq              334                                                  3  "
      ]
     },
     "execution_count": 11,
     "metadata": {},
     "output_type": "execute_result"
    }
   ],
   "source": [
    "df.describe()\n",
    "# Depends on the context and goals of the analysis. Our excel data has alot of non-numerical values\n",
    "# Therefore Describe() may not provide meaningful statistical summaries for this data if it's the mean median etc. were looking for\n"
   ]
  },
  {
   "cell_type": "markdown",
   "id": "6f6a7eb4",
   "metadata": {},
   "source": [
    "# .value_counts"
   ]
  },
  {
   "cell_type": "markdown",
   "id": "a0e05cbd",
   "metadata": {},
   "source": [
    "It Shows all the unique values with their count\n",
    "- Q. show top 10 countries and the values\n",
    "- Q. show top 5 Types of movies are"
   ]
  },
  {
   "cell_type": "code",
   "execution_count": 12,
   "id": "8fdcafd6",
   "metadata": {},
   "outputs": [
    {
     "name": "stdout",
     "output_type": "stream",
     "text": [
      "United States     2556\n",
      "India              923\n",
      "United Kingdom     397\n",
      "Japan              226\n",
      "South Korea        183\n",
      "Canada             177\n",
      "Spain              134\n",
      "France             115\n",
      "Egypt              101\n",
      "Turkey             100\n",
      "Name: Country, dtype: int64\n"
     ]
    }
   ],
   "source": [
    "top_countries = df['Country'].value_counts().head(10)\n",
    "print(top_countries)"
   ]
  },
  {
   "cell_type": "code",
   "execution_count": 13,
   "id": "0ce03a6a",
   "metadata": {},
   "outputs": [
    {
     "name": "stdout",
     "output_type": "stream",
     "text": [
      "Documentaries                                       334\n",
      "Stand-Up Comedy                                     321\n",
      "Dramas, International Movies                        320\n",
      "Comedies, Dramas, International Movies              243\n",
      "Dramas, Independent Movies, International Movies    215\n",
      "Name: Type, dtype: int64\n"
     ]
    }
   ],
   "source": [
    "top_movie_types = df['Type'].value_counts().head(5)\n",
    "print(top_movie_types)"
   ]
  },
  {
   "cell_type": "markdown",
   "id": "9b9ab6f2",
   "metadata": {},
   "source": [
    "# .isnull()"
   ]
  },
  {
   "cell_type": "markdown",
   "id": "b44be19d",
   "metadata": {},
   "source": [
    "It shows the how many null/ missing values"
   ]
  },
  {
   "cell_type": "code",
   "execution_count": 14,
   "id": "ab0e2a6d",
   "metadata": {},
   "outputs": [
    {
     "data": {
      "text/plain": [
       "Show_Id            0\n",
       "Category           0\n",
       "Title              0\n",
       "Director        2388\n",
       "Cast             718\n",
       "Country          507\n",
       "Release_Date      10\n",
       "Rating             7\n",
       "Duration           0\n",
       "Type               0\n",
       "Description        0\n",
       "dtype: int64"
      ]
     },
     "execution_count": 14,
     "metadata": {},
     "output_type": "execute_result"
    }
   ],
   "source": [
    "df.isnull().sum()"
   ]
  },
  {
   "cell_type": "markdown",
   "id": "fe27aa7a",
   "metadata": {},
   "source": [
    "# Impute the missing values with `unknown`\n",
    "- Cast\n",
    "- Country"
   ]
  },
  {
   "cell_type": "code",
   "execution_count": 15,
   "id": "ff05f013",
   "metadata": {},
   "outputs": [
    {
     "name": "stdout",
     "output_type": "stream",
     "text": [
      "     Show_Id Category                                    Title  \\\n",
      "0         s1  TV Show                                       3%   \n",
      "1         s2    Movie                                    07:19   \n",
      "2         s3    Movie                                    23:59   \n",
      "3         s4    Movie                                        9   \n",
      "4         s5    Movie                                       21   \n",
      "...      ...      ...                                      ...   \n",
      "7784   s7783    Movie                                     Zozo   \n",
      "7785   s7784    Movie                                   Zubaan   \n",
      "7786   s7785    Movie                        Zulu Man in Japan   \n",
      "7787   s7786  TV Show                    Zumbo's Just Desserts   \n",
      "7788   s7787    Movie  ZZ TOP: THAT LITTLE OL' BAND FROM TEXAS   \n",
      "\n",
      "               Director                                               Cast  \\\n",
      "0                   NaN  João Miguel, Bianca Comparato, Michel Gomes, R...   \n",
      "1     Jorge Michel Grau  Demián Bichir, Héctor Bonilla, Oscar Serrano, ...   \n",
      "2          Gilbert Chan  Tedd Chan, Stella Chung, Henley Hii, Lawrence ...   \n",
      "3           Shane Acker  Elijah Wood, John C. Reilly, Jennifer Connelly...   \n",
      "4        Robert Luketic  Jim Sturgess, Kevin Spacey, Kate Bosworth, Aar...   \n",
      "...                 ...                                                ...   \n",
      "7784        Josef Fares  Imad Creidi, Antoinette Turk, Elias Gergi, Car...   \n",
      "7785        Mozez Singh  Vicky Kaushal, Sarah-Jane Dias, Raaghav Chanan...   \n",
      "7786                NaN                                            Nasty C   \n",
      "7787                NaN                         Adriano Zumbo, Rachel Khoo   \n",
      "7788           Sam Dunn                                            unknown   \n",
      "\n",
      "                                                Country        Release_Date  \\\n",
      "0                                                Brazil     August 14, 2020   \n",
      "1                                                Mexico   December 23, 2016   \n",
      "2                                             Singapore   December 20, 2018   \n",
      "3                                         United States   November 16, 2017   \n",
      "4                                         United States     January 1, 2020   \n",
      "...                                                 ...                 ...   \n",
      "7784  Sweden, Czech Republic, United Kingdom, Denmar...    October 19, 2020   \n",
      "7785                                              India       March 2, 2019   \n",
      "7786                                            unknown  September 25, 2020   \n",
      "7787                                          Australia    October 31, 2020   \n",
      "7788              United Kingdom, Canada, United States       March 1, 2020   \n",
      "\n",
      "     Rating   Duration                                               Type  \\\n",
      "0     TV-MA  4 Seasons  International TV Shows, TV Dramas, TV Sci-Fi &...   \n",
      "1     TV-MA     93 min                       Dramas, International Movies   \n",
      "2         R     78 min                Horror Movies, International Movies   \n",
      "3     PG-13     80 min  Action & Adventure, Independent Movies, Sci-Fi...   \n",
      "4     PG-13    123 min                                             Dramas   \n",
      "...     ...        ...                                                ...   \n",
      "7784  TV-MA     99 min                       Dramas, International Movies   \n",
      "7785  TV-14    111 min     Dramas, International Movies, Music & Musicals   \n",
      "7786  TV-MA     44 min  Documentaries, International Movies, Music & M...   \n",
      "7787  TV-PG   1 Season                 International TV Shows, Reality TV   \n",
      "7788  TV-MA     90 min                    Documentaries, Music & Musicals   \n",
      "\n",
      "                                            Description  \n",
      "0     In a future where the elite inhabit an island ...  \n",
      "1     After a devastating earthquake hits Mexico Cit...  \n",
      "2     When an army recruit is found dead, his fellow...  \n",
      "3     In a postapocalyptic world, rag-doll robots hi...  \n",
      "4     A brilliant group of students become card-coun...  \n",
      "...                                                 ...  \n",
      "7784  When Lebanon's Civil War deprives Zozo of his ...  \n",
      "7785  A scrappy but poor boy worms his way into a ty...  \n",
      "7786  In this documentary, South African rapper Nast...  \n",
      "7787  Dessert wizard Adriano Zumbo looks for the nex...  \n",
      "7788  This documentary delves into the mystique behi...  \n",
      "\n",
      "[7789 rows x 11 columns]\n"
     ]
    }
   ],
   "source": [
    "df['Cast'].fillna('unknown', inplace=True)\n",
    "df['Country'].fillna('unknown', inplace=True)\n",
    "\n",
    "print(df)"
   ]
  },
  {
   "cell_type": "markdown",
   "id": "b995de38",
   "metadata": {},
   "source": [
    "# For a movie itle \"Zozo\" ; What is the Show Id and Who is the the Director of this Show ?\n",
    "- loc or query"
   ]
  },
  {
   "cell_type": "code",
   "execution_count": 16,
   "id": "6baec02b",
   "metadata": {},
   "outputs": [
    {
     "name": "stdout",
     "output_type": "stream",
     "text": [
      "     Show_Id     Director\n",
      "7784   s7783  Josef Fares\n"
     ]
    }
   ],
   "source": [
    "zozo_info = df.loc[df['Title'] == \"Zozo\", ['Show_Id', 'Director']] # Loc method \n",
    "\n",
    "# Print the result\n",
    "print(zozo_info)"
   ]
  },
  {
   "cell_type": "code",
   "execution_count": 17,
   "id": "20a940c4",
   "metadata": {},
   "outputs": [
    {
     "name": "stdout",
     "output_type": "stream",
     "text": [
      "     Show_Id     Director\n",
      "7784   s7783  Josef Fares\n"
     ]
    }
   ],
   "source": [
    "zozo_info = df.query('Title == \"Zozo\"')[['Show_Id', 'Director']] # Query method\n",
    "\n",
    "# Print the result\n",
    "print(zozo_info)"
   ]
  },
  {
   "cell_type": "markdown",
   "id": "8d39a9d5",
   "metadata": {},
   "source": [
    "#    In which year Heighest Number of Tv Shows and Movies were released ?"
   ]
  },
  {
   "cell_type": "markdown",
   "id": "3db6e58c",
   "metadata": {},
   "source": [
    "- First Convert the data type of Column Release_Date and pick year only ? Using to_datetime and dt.year\n",
    "- use value_counts and bar graph to get the highest number"
   ]
  },
  {
   "cell_type": "code",
   "execution_count": 18,
   "id": "1f497ab6",
   "metadata": {},
   "outputs": [],
   "source": [
    "import matplotlib.pyplot as plt"
   ]
  },
  {
   "cell_type": "code",
   "execution_count": 19,
   "id": "30b8f6d8",
   "metadata": {},
   "outputs": [
    {
     "name": "stdout",
     "output_type": "stream",
     "text": [
      "The year with the highest number of releases is 2019.0 with 2154 releases.\n"
     ]
    }
   ],
   "source": [
    "df['Release_Year'] = pd.to_datetime(df['Release_Date']).dt.year\n",
    "\n",
    "# Use value_counts() to count the number of releases in each year\n",
    "release_counts = df['Release_Year'].value_counts()\n",
    "\n",
    "# Find the year with the highest number of releases\n",
    "max_year = release_counts.idxmax()\n",
    "max_count = release_counts.max()\n",
    "\n",
    "print(f\"The year with the highest number of releases is {max_year} with {max_count} releases.\")\n"
   ]
  },
  {
   "cell_type": "code",
   "execution_count": 20,
   "id": "3230fe9c",
   "metadata": {},
   "outputs": [
    {
     "data": {
      "image/png": "[encoded data removed]",
      "text/plain": [
       "<Figure size 1000x600 with 1 Axes>"
      ]
     },
     "metadata": {},
     "output_type": "display_data"
    }
   ],
   "source": [
    "plt.figure(figsize=(10, 6))\n",
    "plt.bar(release_counts.index, release_counts.values, color='skyblue')\n",
    "plt.xlabel('Release Year')\n",
    "plt.ylabel('Number of Releases')\n",
    "plt.title(f'Highest Number of Releases in {max_year} ({max_count} releases)')\n",
    "plt.xticks(rotation=45)\n",
    "plt.show()"
   ]
  },
  {
   "cell_type": "markdown",
   "id": "58043db6",
   "metadata": {},
   "source": [
    "# How many Movies & Tv shows are inthe dataset ? Show With bar grapp"
   ]
  },
  {
   "cell_type": "code",
   "execution_count": 21,
   "id": "e1f71023",
   "metadata": {},
   "outputs": [
    {
     "data": {
      "image/png": "[encoded data removed]",
      "text/plain": [
       "<Figure size 800x500 with 1 Axes>"
      ]
     },
     "metadata": {},
     "output_type": "display_data"
    },
    {
     "name": "stdout",
     "output_type": "stream",
     "text": [
      "Movie      5379\n",
      "TV Show    2410\n",
      "Name: Category, dtype: int64\n"
     ]
    }
   ],
   "source": [
    "category_counts = df['Category'].value_counts()\n",
    "\n",
    "\n",
    "plt.figure(figsize=(8, 5))\n",
    "category_counts.plot(kind='bar', color=['skyblue', 'salmon'])\n",
    "plt.xlabel('Category')\n",
    "plt.ylabel('Count')\n",
    "plt.title('Number of Movies and TV Shows in the Dataset')\n",
    "plt.xticks(rotation=0)\n",
    "plt.show()\n",
    "\n",
    "print(category_counts)"
   ]
  },
  {
   "cell_type": "markdown",
   "id": "e2ea9cca",
   "metadata": {},
   "source": [
    "# Show all the Movies that were Released in 2010 ?"
   ]
  },
  {
   "cell_type": "code",
   "execution_count": 22,
   "id": "2368b53b",
   "metadata": {},
   "outputs": [
    {
     "name": "stdout",
     "output_type": "stream",
     "text": [
      "Movies released in 2010:\n",
      "                            Title  Release_Year\n",
      "3840  Mad Ron's Prevues from Hell        2010.0\n"
     ]
    }
   ],
   "source": [
    "df['Release_Year'] = pd.to_datetime(df['Release_Date']).dt.year\n",
    "\n",
    "movies_2010 = df[(df['Category'] == 'Movie') & (df['Release_Year'] == 2010)]\n",
    "\n",
    "print(\"Movies released in 2010:\")\n",
    "print(movies_2010[['Title', 'Release_Year']])"
   ]
  },
  {
   "cell_type": "markdown",
   "id": "7fbc4ec6",
   "metadata": {},
   "source": [
    "# Show Top 10 Directors , Who gave the Heighest Number of Tv Shows & Movies to Netflix ?"
   ]
  },
  {
   "cell_type": "code",
   "execution_count": 23,
   "id": "3033bf9e",
   "metadata": {},
   "outputs": [
    {
     "data": {
      "image/png": "[encoded data removed]",
      "text/plain": [
       "<Figure size 1000x600 with 1 Axes>"
      ]
     },
     "metadata": {},
     "output_type": "display_data"
    },
    {
     "name": "stdout",
     "output_type": "stream",
     "text": [
      "Top 10 Directors:\n",
      "Raúl Campos, Jan Suter    18\n",
      "Marcus Raboy              16\n",
      "Jay Karas                 14\n",
      "Cathy Garcia-Molina       13\n",
      "Jay Chapman               12\n",
      "Youssef Chahine           12\n",
      "Martin Scorsese           12\n",
      "Steven Spielberg          10\n",
      "David Dhawan               9\n",
      "Robert Rodriguez           8\n",
      "Name: Director, dtype: int64\n"
     ]
    }
   ],
   "source": [
    "filtered_df = df[df['Category'].isin(['TV Show', 'Movie'])]\n",
    "\n",
    "director_counts = filtered_df['Director'].value_counts().head(10)\n",
    "\n",
    "plt.figure(figsize=(10, 6))\n",
    "director_counts.plot(kind='bar', color='skyblue')\n",
    "plt.xlabel('Director')\n",
    "plt.ylabel('Number of Shows/Movies')\n",
    "plt.title('Top 10 Directors with the Highest Number of TV Shows and Movies on Netflix')\n",
    "plt.xticks(rotation=45)\n",
    "plt.show()\n",
    "\n",
    "print(\"Top 10 Directors:\")\n",
    "print(director_counts)"
   ]
  },
  {
   "cell_type": "markdown",
   "id": "2fa4cd1e",
   "metadata": {},
   "source": [
    "# What are the different rating defined By the Netflix ?"
   ]
  },
  {
   "cell_type": "code",
   "execution_count": 24,
   "id": "42d1e085",
   "metadata": {},
   "outputs": [
    {
     "name": "stdout",
     "output_type": "stream",
     "text": [
      "Different content ratings defined by Netflix:\n",
      "TV-MA\n",
      "R\n",
      "PG-13\n",
      "TV-14\n",
      "TV-PG\n",
      "NR\n",
      "TV-G\n",
      "TV-Y\n",
      "nan\n",
      "TV-Y7\n",
      "PG\n",
      "G\n",
      "NC-17\n",
      "TV-Y7-FV\n",
      "UR\n"
     ]
    }
   ],
   "source": [
    "unique_ratings = df['Rating'].unique()\n",
    "\n",
    "print(\"Different content ratings defined by Netflix:\")\n",
    "for rating in unique_ratings:\n",
    "    print(rating)"
   ]
  },
  {
   "cell_type": "markdown",
   "id": "a10ca2c5",
   "metadata": {},
   "source": [
    "# What is the maximum duration of Netflix On Tv Show ?"
   ]
  },
  {
   "cell_type": "markdown",
   "id": "d9058da2",
   "metadata": {},
   "source": [
    "The Duration Column has 12 tpe values one is Int and oother is Object, Seprate Both the Values Using \"str.split\" Dunction"
   ]
  },
  {
   "cell_type": "code",
   "execution_count": 25,
   "id": "24295d0a",
   "metadata": {},
   "outputs": [
    {
     "name": "stdout",
     "output_type": "stream",
     "text": [
      "Maximum duration of a TV show on Netflix:\n",
      "312 min\n"
     ]
    }
   ],
   "source": [
    "duration_split = df['Duration'].str.split(' ', n=1, expand=True)\n",
    "numeric_duration = duration_split[0].astype(int)\n",
    "textual_duration = duration_split[1]\n",
    "max_duration = numeric_duration.max()\n",
    "max_duration_text = textual_duration[numeric_duration.idxmax()]\n",
    "\n",
    "print(\"Maximum duration of a TV show on Netflix:\")\n",
    "print(f\"{max_duration} {max_duration_text}\")"
   ]
  },
  {
   "cell_type": "markdown",
   "id": "9245c7b5",
   "metadata": {},
   "source": [
    "# How we can sort the dataset By year "
   ]
  },
  {
   "cell_type": "code",
   "execution_count": 26,
   "id": "569d58f9",
   "metadata": {},
   "outputs": [
    {
     "name": "stdout",
     "output_type": "stream",
     "text": [
      "     Show_Id Category                         Title              Director  \\\n",
      "7115   s7114    Movie          To and From New York  Sorin Dan Mihalcescu   \n",
      "1765   s1766  TV Show               Dinner for Five                   NaN   \n",
      "5766   s5766    Movie                      Splatter             Joe Dante   \n",
      "3248   s3249    Movie       Just Another Love Story          Ole Bornedal   \n",
      "3840   s3841    Movie   Mad Ron's Prevues from Hell            Jim Monaco   \n",
      "...      ...      ...                           ...                   ...   \n",
      "3374   s3375  TV Show                      Kikoriki                   NaN   \n",
      "3492   s3493  TV Show           La Familia P. Luche                   NaN   \n",
      "3946   s3947  TV Show                         Maron                   NaN   \n",
      "5138   s5138  TV Show                  Red vs. Blue                   NaN   \n",
      "6066   s6066  TV Show  The Adventures of Figaro Pho                   NaN   \n",
      "\n",
      "                                                   Cast        Country  \\\n",
      "7115  Barbara King, Shaana Diya, John Krisiukenas, Y...  United States   \n",
      "1765                                            unknown  United States   \n",
      "5766  Corey Feldman, Tony Todd, Tara Leigh, Erin Way...  United States   \n",
      "3248  Anders W. Berthelsen, Rebecka Hemse, Nikolaj L...        Denmark   \n",
      "3840  Nick Pawlow, Jordu Schell, Jay Kushwara, Micha...  United States   \n",
      "...                                                 ...            ...   \n",
      "3374                                      Igor Dmitriev        unknown   \n",
      "3492  Eugenio Derbez, Consuelo Duval, Luis Manuel Áv...  United States   \n",
      "3946  Marc Maron, Judd Hirsch, Josh Brener, Nora Zeh...  United States   \n",
      "5138  Burnie Burns, Jason Saldaña, Gustavo Sorola, G...  United States   \n",
      "6066  Luke Jurevicius, Craig Behenna, Charlotte Haml...      Australia   \n",
      "\n",
      "     Release_Date Rating    Duration  \\\n",
      "7115   2008-01-01  TV-MA      81 min   \n",
      "1765   2008-02-04  TV-MA    1 Season   \n",
      "5766   2009-11-18  TV-MA      29 min   \n",
      "3248   2009-05-05  TV-MA     104 min   \n",
      "3840   2010-11-01     NR      84 min   \n",
      "...           ...    ...         ...   \n",
      "3374          NaT   TV-Y   2 Seasons   \n",
      "3492          NaT  TV-14   3 Seasons   \n",
      "3946          NaT  TV-MA   4 Seasons   \n",
      "5138          NaT     NR  13 Seasons   \n",
      "6066          NaT  TV-Y7   2 Seasons   \n",
      "\n",
      "                                                   Type  \\\n",
      "7115              Dramas, Independent Movies, Thrillers   \n",
      "1765                       Stand-Up Comedy & Talk Shows   \n",
      "5766                                      Horror Movies   \n",
      "3248                       Dramas, International Movies   \n",
      "3840                         Cult Movies, Horror Movies   \n",
      "...                                                 ...   \n",
      "3374                                           Kids' TV   \n",
      "3492  International TV Shows, Spanish-Language TV Sh...   \n",
      "3946                                        TV Comedies   \n",
      "5138  TV Action & Adventure, TV Comedies, TV Sci-Fi ...   \n",
      "6066                              Kids' TV, TV Comedies   \n",
      "\n",
      "                                            Description  Release_Year    Year  \n",
      "7115  While covering a story in New York City, a Sea...        2008.0  2008.0  \n",
      "1765  In each episode, four celebrities join host Jo...        2008.0  2008.0  \n",
      "5766  After committing suicide, a washed-up rocker r...        2009.0  2009.0  \n",
      "3248  When he causes a car accident that leaves a yo...        2009.0  2009.0  \n",
      "3840  This collection cherry-picks trailers, forgott...        2010.0  2010.0  \n",
      "...                                                 ...           ...     ...  \n",
      "3374  A wacky rabbit and his gang of animal pals hav...           NaN     NaN  \n",
      "3492  This irreverent sitcom featues Ludovico, Feder...           NaN     NaN  \n",
      "3946  Marc Maron stars as Marc Maron, who interviews...           NaN     NaN  \n",
      "5138  This parody of first-person shooter games, mil...           NaN     NaN  \n",
      "6066  Imagine your worst fears, then multiply them: ...           NaN     NaN  \n",
      "\n",
      "[7789 rows x 13 columns]\n"
     ]
    }
   ],
   "source": [
    "df['Release_Date'] = pd.to_datetime(df['Release_Date'])\n",
    "df['Year'] = df['Release_Date'].dt.year\n",
    "sorted_df = df.sort_values(by='Year', ascending=True)\n",
    "\n",
    "print(sorted_df)"
   ]
  },
  {
   "cell_type": "markdown",
   "id": "15bb8e2e",
   "metadata": {},
   "source": [
    "# Show all the Records, were \"Category\" is \"Movie\" and \"type\" is \"Horror Movies\" and \"Country\" is \"United Kingdom\". Save the data into a new dataframev(df_new)"
   ]
  },
  {
   "cell_type": "code",
   "execution_count": 33,
   "id": "9464ac7c",
   "metadata": {
    "scrolled": true
   },
   "outputs": [
    {
     "name": "stdout",
     "output_type": "stream",
     "text": [
      "     Show_Id Category          Title         Director  \\\n",
      "2405   s2406    Movie  Ghosts of War       Eric Bress   \n",
      "6372   s6371    Movie  The Forgotten  Oliver Frampton   \n",
      "\n",
      "                                                   Cast         Country  \\\n",
      "2405  Brenton Thwaites, Theo Rossi, Skylar Astin, Ky...  United Kingdom   \n",
      "6372  Clem Tibber, Elarica Johnson, James Doherty, S...  United Kingdom   \n",
      "\n",
      "     Release_Date Rating Duration           Type  \\\n",
      "2405   2020-11-25      R   95 min  Horror Movies   \n",
      "6372   2017-09-11  TV-MA   89 min  Horror Movies   \n",
      "\n",
      "                                            Description  Release_Year    Year  \n",
      "2405  Five, battle-worn Allied soldiers guarding a c...        2020.0  2020.0  \n",
      "6372  After a teenager goes to live with his father ...        2017.0  2017.0  \n"
     ]
    }
   ],
   "source": [
    "df_new = df[(df['Category'] == 'Movie') & (df['Type'] == 'Horror Movies') & (df['Country'] == 'United Kingdom')]\n",
    "print(df_new)"
   ]
  },
  {
   "cell_type": "markdown",
   "id": "690ea844",
   "metadata": {},
   "source": [
    "## Save the dataframe (df_save) and load it back without the index column"
   ]
  },
  {
   "cell_type": "code",
   "execution_count": 36,
   "id": "d2766bec",
   "metadata": {},
   "outputs": [
    {
     "name": "stdout",
     "output_type": "stream",
     "text": [
      "  Show_Id Category          Title         Director  \\\n",
      "0   s2406    Movie  Ghosts of War       Eric Bress   \n",
      "1   s6371    Movie  The Forgotten  Oliver Frampton   \n",
      "\n",
      "                                                Cast         Country  \\\n",
      "0  Brenton Thwaites, Theo Rossi, Skylar Astin, Ky...  United Kingdom   \n",
      "1  Clem Tibber, Elarica Johnson, James Doherty, S...  United Kingdom   \n",
      "\n",
      "  Release_Date Rating Duration           Type  \\\n",
      "0   2020-11-25      R   95 min  Horror Movies   \n",
      "1   2017-09-11  TV-MA   89 min  Horror Movies   \n",
      "\n",
      "                                         Description  Release_Year    Year  \n",
      "0  Five, battle-worn Allied soldiers guarding a c...        2020.0  2020.0  \n",
      "1  After a teenager goes to live with his father ...        2017.0  2017.0  \n"
     ]
    }
   ],
   "source": [
    "df_new.to_csv('df_save.csv', index=False)\n",
    "loaded_df = pd.read_csv('df_save.csv')\n",
    "print(loaded_df)"
   ]
  },
  {
   "cell_type": "markdown",
   "id": "e89d1120",
   "metadata": {},
   "source": [
    "## Write a overall summary on what did you understand from this data analysis. "
   ]
  },
  {
   "cell_type": "markdown",
   "id": "16e4e05e",
   "metadata": {},
   "source": [
    "## This data analysis explored a dataset related to Netflix content, gaining insight to the platforms content distribution, ratings, release trends, top contributors and content duration. Jupiter Notebook is an excellent analysis tool to utilize when it comes to organizing data and further finding useful information that can find relationships between these different factors. For instance, it was interesting to see the histogram illustrating the top 10 directors with the highest number of and tv shows and movies on Netflix. "
   ]
  },
  {
   "cell_type": "code",
   "execution_count": null,
   "id": "caa89212",
   "metadata": {},
   "outputs": [],
   "source": []
  }
 ],
 "metadata": {
  "kernelspec": {
   "display_name": "Python 3 (ipykernel)",
   "language": "python",
   "name": "python3"
  },
  "language_info": {
   "codemirror_mode": {
    "name": "ipython",
    "version": 3
   },
   "file_extension": ".py",
   "mimetype": "text/x-python",
   "name": "python",
   "nbconvert_exporter": "python",
   "pygments_lexer": "ipython3",
   "version": "3.9.13"
  }
 },
 "nbformat": 4,
 "nbformat_minor": 5
}
